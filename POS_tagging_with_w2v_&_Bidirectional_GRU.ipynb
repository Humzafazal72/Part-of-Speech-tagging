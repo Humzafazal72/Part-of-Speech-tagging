{
  "metadata": {
    "kernelspec": {
      "language": "python",
      "display_name": "Python 3",
      "name": "python3"
    },
    "language_info": {
      "name": "python",
      "version": "3.10.12",
      "mimetype": "text/x-python",
      "codemirror_mode": {
        "name": "ipython",
        "version": 3
      },
      "pygments_lexer": "ipython3",
      "nbconvert_exporter": "python",
      "file_extension": ".py"
    },
    "kaggle": {
      "accelerator": "nvidiaTeslaT4",
      "dataSources": [
        {
          "sourceId": 3043695,
          "sourceType": "datasetVersion",
          "datasetId": 1861688
        }
      ],
      "dockerImageVersionId": 30559,
      "isInternetEnabled": true,
      "language": "python",
      "sourceType": "notebook",
      "isGpuEnabled": true
    },
    "colab": {
      "name": "POS_tagging_with_w2v_&_Bidirectional_GRU",
      "provenance": [],
      "include_colab_link": true
    }
  },
  "nbformat_minor": 0,
  "nbformat": 4,
  "cells": [
    {
      "cell_type": "markdown",
      "metadata": {
        "id": "view-in-github",
        "colab_type": "text"
      },
      "source": [
        "<a href=\"https://colab.research.google.com/github/Humzafazal72/Part-of-Speech-tagging/blob/main/POS_tagging_with_w2v_%26_Bidirectional_GRU.ipynb\" target=\"_parent\"><img src=\"https://colab.research.google.com/assets/colab-badge.svg\" alt=\"Open In Colab\"/></a>"
      ]
    },
    {
      "source": [
        "\n",
        "# IMPORTANT: RUN THIS CELL IN ORDER TO IMPORT YOUR KAGGLE DATA SOURCES\n",
        "# TO THE CORRECT LOCATION (/kaggle/input) IN YOUR NOTEBOOK,\n",
        "# THEN FEEL FREE TO DELETE THIS CELL.\n",
        "# NOTE: THIS NOTEBOOK ENVIRONMENT DIFFERS FROM KAGGLE'S PYTHON\n",
        "# ENVIRONMENT SO THERE MAY BE MISSING LIBRARIES USED BY YOUR\n",
        "# NOTEBOOK.\n",
        "\n",
        "import os\n",
        "import sys\n",
        "from tempfile import NamedTemporaryFile\n",
        "from urllib.request import urlopen\n",
        "from urllib.parse import unquote, urlparse\n",
        "from urllib.error import HTTPError\n",
        "from zipfile import ZipFile\n",
        "import tarfile\n",
        "import shutil\n",
        "\n",
        "CHUNK_SIZE = 40960\n",
        "DATA_SOURCE_MAPPING = 'named-entity-recognition-ner-corpus:https%3A%2F%2Fstorage.googleapis.com%2Fkaggle-data-sets%2F1861688%2F3043695%2Fbundle%2Farchive.zip%3FX-Goog-Algorithm%3DGOOG4-RSA-SHA256%26X-Goog-Credential%3Dgcp-kaggle-com%2540kaggle-161607.iam.gserviceaccount.com%252F20240215%252Fauto%252Fstorage%252Fgoog4_request%26X-Goog-Date%3D20240215T180633Z%26X-Goog-Expires%3D259200%26X-Goog-SignedHeaders%3Dhost%26X-Goog-Signature%3D3c87b754550980229f2b0244068a9fbfe3ad718c68c50de167e66c8c35323a1d706ba8dccd3a6432bce7530cce604bc2a793898b7bdfa31f64a0063b5a318bcdaab0582298ff2849bba53fcbfd5489fee696cf2889790ed8ae2157bbf68c66a32a1175292eab98f2ed65e4b5a5c19c0ed80394a767b74b6219c9288f7eea9fce03e0774a36ebcb03427bcbcb9d56df95bf0ef23805de819ffdd67f3be931676e9ed44165b6dbd8f071b4bc50acf866ede819f94bdf13d1bfebf6ff156a178f56585375d198a3195f039e349e7ab5dbefe9d88401ee323ac639eced023b4869b854b1b56cdd0de0f891546fd939334dc16f315987dc52d2b0f859f0ee67f308fa'\n",
        "\n",
        "KAGGLE_INPUT_PATH='/kaggle/input'\n",
        "KAGGLE_WORKING_PATH='/kaggle/working'\n",
        "KAGGLE_SYMLINK='kaggle'\n",
        "\n",
        "!umount /kaggle/input/ 2> /dev/null\n",
        "shutil.rmtree('/kaggle/input', ignore_errors=True)\n",
        "os.makedirs(KAGGLE_INPUT_PATH, 0o777, exist_ok=True)\n",
        "os.makedirs(KAGGLE_WORKING_PATH, 0o777, exist_ok=True)\n",
        "\n",
        "try:\n",
        "  os.symlink(KAGGLE_INPUT_PATH, os.path.join(\"..\", 'input'), target_is_directory=True)\n",
        "except FileExistsError:\n",
        "  pass\n",
        "try:\n",
        "  os.symlink(KAGGLE_WORKING_PATH, os.path.join(\"..\", 'working'), target_is_directory=True)\n",
        "except FileExistsError:\n",
        "  pass\n",
        "\n",
        "for data_source_mapping in DATA_SOURCE_MAPPING.split(','):\n",
        "    directory, download_url_encoded = data_source_mapping.split(':')\n",
        "    download_url = unquote(download_url_encoded)\n",
        "    filename = urlparse(download_url).path\n",
        "    destination_path = os.path.join(KAGGLE_INPUT_PATH, directory)\n",
        "    try:\n",
        "        with urlopen(download_url) as fileres, NamedTemporaryFile() as tfile:\n",
        "            total_length = fileres.headers['content-length']\n",
        "            print(f'Downloading {directory}, {total_length} bytes compressed')\n",
        "            dl = 0\n",
        "            data = fileres.read(CHUNK_SIZE)\n",
        "            while len(data) > 0:\n",
        "                dl += len(data)\n",
        "                tfile.write(data)\n",
        "                done = int(50 * dl / int(total_length))\n",
        "                sys.stdout.write(f\"\\r[{'=' * done}{' ' * (50-done)}] {dl} bytes downloaded\")\n",
        "                sys.stdout.flush()\n",
        "                data = fileres.read(CHUNK_SIZE)\n",
        "            if filename.endswith('.zip'):\n",
        "              with ZipFile(tfile) as zfile:\n",
        "                zfile.extractall(destination_path)\n",
        "            else:\n",
        "              with tarfile.open(tfile.name) as tarfile:\n",
        "                tarfile.extractall(destination_path)\n",
        "            print(f'\\nDownloaded and uncompressed: {directory}')\n",
        "    except HTTPError as e:\n",
        "        print(f'Failed to load (likely expired) {download_url} to path {destination_path}')\n",
        "        continue\n",
        "    except OSError as e:\n",
        "        print(f'Failed to load {download_url} to path {destination_path}')\n",
        "        continue\n",
        "\n",
        "print('Data source import complete.')\n"
      ],
      "metadata": {
        "id": "9PAJU03_8yVJ"
      },
      "cell_type": "code",
      "outputs": [],
      "execution_count": null
    },
    {
      "cell_type": "code",
      "source": [
        "import ast\n",
        "import numpy as np\n",
        "import pandas as pd\n",
        "import tensorflow as tf\n",
        "from gensim.models import Word2Vec\n",
        "from gensim.models import KeyedVectors\n",
        "from matplotlib import pyplot as plt\n",
        "from keras.utils import to_categorical\n",
        "from tensorflow.keras.regularizers import L2\n",
        "from tensorflow.keras.models import Sequential\n",
        "from sklearn.model_selection import train_test_split\n",
        "from tensorflow.keras.metrics import Precision, Recall\n",
        "from tensorflow.keras.preprocessing.text import Tokenizer\n",
        "from tensorflow.keras.losses import SparseCategoricalCrossentropy\n",
        "from tensorflow.keras.preprocessing.sequence import pad_sequences\n",
        "from tensorflow.keras.layers import Dense,GRU,LSTM,Bidirectional,Embedding,Input"
      ],
      "metadata": {
        "execution": {
          "iopub.status.busy": "2024-02-15T17:15:00.927548Z",
          "iopub.execute_input": "2024-02-15T17:15:00.927862Z",
          "iopub.status.idle": "2024-02-15T17:15:27.577387Z",
          "shell.execute_reply.started": "2024-02-15T17:15:00.927835Z",
          "shell.execute_reply": "2024-02-15T17:15:27.576087Z"
        },
        "trusted": true,
        "id": "-wgkdKHo8yVM"
      },
      "execution_count": 1,
      "outputs": []
    },
    {
      "cell_type": "code",
      "source": [
        "ds=pd.read_csv('/kaggle/input/named-entity-recognition-ner-corpus/ner.csv')"
      ],
      "metadata": {
        "execution": {
          "iopub.status.busy": "2024-02-15T17:15:27.579431Z",
          "iopub.execute_input": "2024-02-15T17:15:27.580128Z",
          "iopub.status.idle": "2024-02-15T17:15:28.035081Z",
          "shell.execute_reply.started": "2024-02-15T17:15:27.580086Z",
          "shell.execute_reply": "2024-02-15T17:15:28.034242Z"
        },
        "trusted": true,
        "id": "3ARCmyLX8yVM"
      },
      "execution_count": null,
      "outputs": []
    },
    {
      "cell_type": "code",
      "source": [
        "#converting the POS column to list (it was previously in string format)\n",
        "ds['POS']=ds['POS'].apply(ast.literal_eval)"
      ],
      "metadata": {
        "execution": {
          "iopub.status.busy": "2024-02-15T17:15:28.036381Z",
          "iopub.execute_input": "2024-02-15T17:15:28.03666Z",
          "iopub.status.idle": "2024-02-15T17:15:32.741825Z",
          "shell.execute_reply.started": "2024-02-15T17:15:28.036638Z",
          "shell.execute_reply": "2024-02-15T17:15:32.740842Z"
        },
        "trusted": true,
        "id": "0Tho4MoC8yVN"
      },
      "execution_count": null,
      "outputs": []
    },
    {
      "cell_type": "code",
      "source": [
        "#cleaning the POS and text column\n",
        "punctuation=\"!#$%&()*+,-./:;<=>?@[\\\\]^_`{|}~\\t\\n'\"\n",
        "omit=[\"'s\",\"'ll\",\"--\",'\"','..']\n",
        "clean_sentences=[]\n",
        "clean_tags=[]\n",
        "for i in range(ds.shape[0]):\n",
        "    sentence=ds['Sentence'][i].lower()\n",
        "    tag=ds['POS'][i]\n",
        "\n",
        "    words=sentence.split()\n",
        "    clean_sentence=[]\n",
        "    clean_tag=[]\n",
        "    for j in range(len(words)):\n",
        "        if words[j] not in punctuation and words[j] not in omit and words[j].isdecimal()!=True and words[j].isnumeric()!=True:\n",
        "            clean_sentence.append(words[j])\n",
        "            clean_tag.append(tag[j])\n",
        "    clean_sentences.append(clean_sentence)\n",
        "    clean_tags.append(clean_tag)"
      ],
      "metadata": {
        "execution": {
          "iopub.status.busy": "2024-02-15T17:17:13.794232Z",
          "iopub.execute_input": "2024-02-15T17:17:13.794656Z",
          "iopub.status.idle": "2024-02-15T17:17:15.980791Z",
          "shell.execute_reply.started": "2024-02-15T17:17:13.794624Z",
          "shell.execute_reply": "2024-02-15T17:17:15.979701Z"
        },
        "trusted": true,
        "id": "MTZrPtBa8yVN"
      },
      "execution_count": null,
      "outputs": []
    },
    {
      "cell_type": "code",
      "source": [
        "#determining all the unique pos tags\n",
        "unq_tags=[]\n",
        "for sentence in clean_tags:\n",
        "    for tag in sentence:\n",
        "        if tag not in unq_tags:\n",
        "            unq_tags.append(tag)"
      ],
      "metadata": {
        "execution": {
          "iopub.status.busy": "2024-02-15T17:19:20.105409Z",
          "iopub.execute_input": "2024-02-15T17:19:20.106333Z",
          "iopub.status.idle": "2024-02-15T17:19:20.374747Z",
          "shell.execute_reply.started": "2024-02-15T17:19:20.106299Z",
          "shell.execute_reply": "2024-02-15T17:19:20.373725Z"
        },
        "trusted": true,
        "id": "01oiTLok8yVN"
      },
      "execution_count": null,
      "outputs": []
    },
    {
      "cell_type": "code",
      "source": [
        "#encoding the previously text tags into numbers\n",
        "enc={}\n",
        "for i in range(len(unq_tags)):\n",
        "    enc[unq_tags[i]]=i\n",
        "\n",
        "for sentence in clean_tags:\n",
        "    for idx in range(len(sentence)):\n",
        "        try:\n",
        "            sentence[idx]=enc[sentence[idx]]\n",
        "        except:\n",
        "            continue"
      ],
      "metadata": {
        "execution": {
          "iopub.status.busy": "2024-02-15T17:58:36.742088Z",
          "iopub.execute_input": "2024-02-15T17:58:36.743006Z",
          "iopub.status.idle": "2024-02-15T17:58:37.154693Z",
          "shell.execute_reply.started": "2024-02-15T17:58:36.742963Z",
          "shell.execute_reply": "2024-02-15T17:58:37.153878Z"
        },
        "trusted": true,
        "id": "M0m-FjBy8yVN"
      },
      "execution_count": null,
      "outputs": []
    },
    {
      "cell_type": "code",
      "source": [
        "#Determining what should be the max_len when padding\n",
        "pad_len=([len(clean_sentences[i]) for i in range(len(clean_sentences))])"
      ],
      "metadata": {
        "execution": {
          "iopub.status.busy": "2024-02-15T17:30:54.075698Z",
          "iopub.execute_input": "2024-02-15T17:30:54.076401Z",
          "iopub.status.idle": "2024-02-15T17:30:54.092483Z",
          "shell.execute_reply.started": "2024-02-15T17:30:54.076369Z",
          "shell.execute_reply": "2024-02-15T17:30:54.091698Z"
        },
        "trusted": true,
        "id": "vFRw-gqK8yVO"
      },
      "execution_count": null,
      "outputs": []
    },
    {
      "cell_type": "code",
      "source": [
        "plt.hist(pad_len,bins=70)\n",
        "plt.show()"
      ],
      "metadata": {
        "execution": {
          "iopub.status.busy": "2024-02-15T17:30:58.338273Z",
          "iopub.execute_input": "2024-02-15T17:30:58.338629Z",
          "iopub.status.idle": "2024-02-15T17:30:58.946844Z",
          "shell.execute_reply.started": "2024-02-15T17:30:58.3386Z",
          "shell.execute_reply": "2024-02-15T17:30:58.945926Z"
        },
        "trusted": true,
        "id": "xDj-ymTq8yVO",
        "outputId": "2893aa52-9f64-4e92-c153-513c3cad9d47"
      },
      "execution_count": null,
      "outputs": [
        {
          "output_type": "display_data",
          "data": {
            "text/plain": "<Figure size 640x480 with 1 Axes>",
            "image/png": "[encoded data removed]"
          },
          "metadata": {}
        }
      ]
    },
    {
      "cell_type": "code",
      "source": [
        "#tokenization\n",
        "tokenizer=Tokenizer(oov_token='<unk>',filters='.')\n",
        "tokenizer.fit_on_texts(clean_sentences)"
      ],
      "metadata": {
        "execution": {
          "iopub.status.busy": "2024-02-15T17:59:32.153633Z",
          "iopub.execute_input": "2024-02-15T17:59:32.154077Z",
          "iopub.status.idle": "2024-02-15T17:59:33.029315Z",
          "shell.execute_reply.started": "2024-02-15T17:59:32.154044Z",
          "shell.execute_reply": "2024-02-15T17:59:33.028313Z"
        },
        "trusted": true,
        "id": "Rwtbb75b8yVO"
      },
      "execution_count": null,
      "outputs": []
    },
    {
      "cell_type": "code",
      "source": [
        "w2v_trained=Word2Vec(clean_sentences,vector_size=300,min_count=1)"
      ],
      "metadata": {
        "execution": {
          "iopub.status.busy": "2024-02-15T17:31:15.214102Z",
          "iopub.execute_input": "2024-02-15T17:31:15.214777Z",
          "iopub.status.idle": "2024-02-15T17:31:22.448174Z",
          "shell.execute_reply.started": "2024-02-15T17:31:15.214743Z",
          "shell.execute_reply": "2024-02-15T17:31:22.447197Z"
        },
        "trusted": true,
        "id": "Xy2ClNu-8yVP"
      },
      "execution_count": null,
      "outputs": []
    },
    {
      "cell_type": "code",
      "source": [
        "#creating the embedding matrix\n",
        "embedding_matrix=np.zeros((len(tokenizer.word_index)+1,300))\n",
        "skiped=[]\n",
        "for word,index in tokenizer.word_index.items():\n",
        "    try:\n",
        "        embedding_vec=w2v_trained.wv[word]\n",
        "    except:\n",
        "        skiped.append(word)\n",
        "        continue\n",
        "    embedding_matrix[index]=embedding_vec"
      ],
      "metadata": {
        "execution": {
          "iopub.status.busy": "2024-02-15T17:31:25.563049Z",
          "iopub.execute_input": "2024-02-15T17:31:25.563468Z",
          "iopub.status.idle": "2024-02-15T17:31:25.726939Z",
          "shell.execute_reply.started": "2024-02-15T17:31:25.563438Z",
          "shell.execute_reply": "2024-02-15T17:31:25.726088Z"
        },
        "trusted": true,
        "id": "iroeuOlJ8yVP"
      },
      "execution_count": null,
      "outputs": []
    },
    {
      "cell_type": "code",
      "source": [
        "sequences=tokenizer.texts_to_sequences(clean_sentences)"
      ],
      "metadata": {
        "execution": {
          "iopub.status.busy": "2024-02-15T17:31:29.11067Z",
          "iopub.execute_input": "2024-02-15T17:31:29.111056Z",
          "iopub.status.idle": "2024-02-15T17:31:29.618032Z",
          "shell.execute_reply.started": "2024-02-15T17:31:29.111025Z",
          "shell.execute_reply": "2024-02-15T17:31:29.616856Z"
        },
        "trusted": true,
        "id": "DNgMJ3Ta8yVP"
      },
      "execution_count": null,
      "outputs": []
    },
    {
      "cell_type": "code",
      "source": [
        "import pickle\n",
        "\n",
        "#with open('/kaggle/working/NER_tokenizer.pickle', 'wb') as handle:\n",
        "#    pickle.dump(tokenizer, handle, protocol=pickle.HIGHEST_PROTOCOL)\n",
        "\n",
        "#with open('tokenizer.pickle', 'rb') as handle:\n",
        "#    tokenizer = pickle.load(handle)"
      ],
      "metadata": {
        "execution": {
          "iopub.status.busy": "2024-02-11T16:54:34.598545Z",
          "iopub.execute_input": "2024-02-11T16:54:34.598914Z",
          "iopub.status.idle": "2024-02-11T16:54:34.638534Z",
          "shell.execute_reply.started": "2024-02-11T16:54:34.598886Z",
          "shell.execute_reply": "2024-02-11T16:54:34.637609Z"
        },
        "trusted": true,
        "id": "LH9aF6ns8yVP"
      },
      "execution_count": null,
      "outputs": []
    },
    {
      "cell_type": "code",
      "source": [
        "pad_seq = pad_sequences(sequences, maxlen=30, padding='post')"
      ],
      "metadata": {
        "execution": {
          "iopub.status.busy": "2024-02-15T17:31:32.730935Z",
          "iopub.execute_input": "2024-02-15T17:31:32.731614Z",
          "iopub.status.idle": "2024-02-15T17:31:32.984265Z",
          "shell.execute_reply.started": "2024-02-15T17:31:32.731579Z",
          "shell.execute_reply": "2024-02-15T17:31:32.983475Z"
        },
        "trusted": true,
        "id": "oCdh2SFI8yVP"
      },
      "execution_count": null,
      "outputs": []
    },
    {
      "cell_type": "code",
      "source": [
        "pad_tag = pad_sequences(clean_tags, maxlen=30, padding='post')"
      ],
      "metadata": {
        "execution": {
          "iopub.status.busy": "2024-02-15T17:31:35.707713Z",
          "iopub.execute_input": "2024-02-15T17:31:35.708611Z",
          "iopub.status.idle": "2024-02-15T17:31:35.951523Z",
          "shell.execute_reply.started": "2024-02-15T17:31:35.708576Z",
          "shell.execute_reply": "2024-02-15T17:31:35.950553Z"
        },
        "trusted": true,
        "id": "UH_TE07Q8yVP"
      },
      "execution_count": null,
      "outputs": []
    },
    {
      "cell_type": "code",
      "source": [
        "embedding_matrix[1]=np.random.normal(0, 1, (300,))"
      ],
      "metadata": {
        "execution": {
          "iopub.status.busy": "2024-02-15T17:31:39.291954Z",
          "iopub.execute_input": "2024-02-15T17:31:39.292823Z",
          "iopub.status.idle": "2024-02-15T17:31:39.298042Z",
          "shell.execute_reply.started": "2024-02-15T17:31:39.292784Z",
          "shell.execute_reply": "2024-02-15T17:31:39.29693Z"
        },
        "trusted": true,
        "id": "o-Lil4gf8yVP"
      },
      "execution_count": null,
      "outputs": []
    },
    {
      "cell_type": "code",
      "source": [
        "x_train, x_test, y_train, y_test = train_test_split(pad_seq, pad_tag, test_size=0.15, random_state=42)"
      ],
      "metadata": {
        "execution": {
          "iopub.status.busy": "2024-02-15T17:31:40.330058Z",
          "iopub.execute_input": "2024-02-15T17:31:40.330989Z",
          "iopub.status.idle": "2024-02-15T17:31:40.349889Z",
          "shell.execute_reply.started": "2024-02-15T17:31:40.33095Z",
          "shell.execute_reply": "2024-02-15T17:31:40.349145Z"
        },
        "trusted": true,
        "id": "W6QZfgRX8yVP"
      },
      "execution_count": null,
      "outputs": []
    },
    {
      "cell_type": "code",
      "source": [
        "y_train_one_hot = to_categorical(y_train, num_classes=39)\n",
        "y_test_one_hot = to_categorical(y_test, num_classes=39)"
      ],
      "metadata": {
        "execution": {
          "iopub.status.busy": "2024-02-15T17:31:44.111301Z",
          "iopub.execute_input": "2024-02-15T17:31:44.112023Z",
          "iopub.status.idle": "2024-02-15T17:31:44.26468Z",
          "shell.execute_reply.started": "2024-02-15T17:31:44.111993Z",
          "shell.execute_reply": "2024-02-15T17:31:44.263877Z"
        },
        "trusted": true,
        "id": "gmbUorSS8yVP"
      },
      "execution_count": null,
      "outputs": []
    },
    {
      "cell_type": "code",
      "source": [
        "gru_model=Sequential([\n",
        "    Embedding(input_dim=len(tokenizer.word_index)+1, output_dim=300, input_length=30, trainable=False, weights=[embedding_matrix]),\n",
        "    Bidirectional(GRU(512,kernel_regularizer=L2(0.0001),recurrent_regularizer=L2(0.001),return_sequences=True)),\n",
        "    Dense(39,'softmax')\n",
        "])"
      ],
      "metadata": {
        "execution": {
          "iopub.status.busy": "2024-02-15T17:32:31.961833Z",
          "iopub.execute_input": "2024-02-15T17:32:31.962741Z",
          "iopub.status.idle": "2024-02-15T17:32:34.465817Z",
          "shell.execute_reply.started": "2024-02-15T17:32:31.962707Z",
          "shell.execute_reply": "2024-02-15T17:32:34.464981Z"
        },
        "trusted": true,
        "id": "di6RqTEh8yVQ"
      },
      "execution_count": null,
      "outputs": []
    },
    {
      "cell_type": "code",
      "source": [
        "gru_model.compile(optimizer='Adam',loss='categorical_crossentropy',metrics=[Precision(),Recall(),'Accuracy'])"
      ],
      "metadata": {
        "execution": {
          "iopub.status.busy": "2024-02-15T17:32:41.094617Z",
          "iopub.execute_input": "2024-02-15T17:32:41.094992Z",
          "iopub.status.idle": "2024-02-15T17:32:41.119992Z",
          "shell.execute_reply.started": "2024-02-15T17:32:41.094963Z",
          "shell.execute_reply": "2024-02-15T17:32:41.119255Z"
        },
        "trusted": true,
        "id": "RkUFWbhG8yVQ"
      },
      "execution_count": null,
      "outputs": []
    },
    {
      "cell_type": "code",
      "source": [
        "gru_model.fit(x_train,y_train_one_hot,epochs=7)"
      ],
      "metadata": {
        "execution": {
          "iopub.status.busy": "2024-02-15T17:38:46.29072Z",
          "iopub.execute_input": "2024-02-15T17:38:46.29203Z",
          "iopub.status.idle": "2024-02-15T17:39:27.650218Z",
          "shell.execute_reply.started": "2024-02-15T17:38:46.29199Z",
          "shell.execute_reply": "2024-02-15T17:39:27.649209Z"
        },
        "trusted": true,
        "id": "PN793JEf8yVQ",
        "outputId": "e804268e-56a3-42aa-955e-d62817f71aa0"
      },
      "execution_count": null,
      "outputs": [
        {
          "name": "stdout",
          "text": "Epoch 1/2\n1274/1274 [==============================] - 14s 11ms/step - loss: 0.2274 - precision: 0.9603 - recall: 0.9222 - Accuracy: 0.9385\nEpoch 2/2\n1274/1274 [==============================] - 14s 11ms/step - loss: 0.2218 - precision: 0.9611 - recall: 0.9242 - Accuracy: 0.9400\n",
          "output_type": "stream"
        },
        {
          "execution_count": 24,
          "output_type": "execute_result",
          "data": {
            "text/plain": "<keras.callbacks.History at 0x7890102c3b20>"
          },
          "metadata": {}
        }
      ]
    },
    {
      "cell_type": "code",
      "source": [
        "gru_model.evaluate(x_test,y_test_one_hot)"
      ],
      "metadata": {
        "execution": {
          "iopub.status.busy": "2024-02-15T17:39:27.652005Z",
          "iopub.execute_input": "2024-02-15T17:39:27.652379Z",
          "iopub.status.idle": "2024-02-15T17:39:30.026111Z",
          "shell.execute_reply.started": "2024-02-15T17:39:27.652345Z",
          "shell.execute_reply": "2024-02-15T17:39:30.025289Z"
        },
        "trusted": true,
        "id": "zor4PSi48yVQ",
        "outputId": "b025be56-3956-4ed0-8f03-5f4850c38724"
      },
      "execution_count": null,
      "outputs": [
        {
          "name": "stdout",
          "text": "225/225 [==============================] - 2s 6ms/step - loss: 0.2208 - precision: 0.9613 - recall: 0.9239 - Accuracy: 0.9398\n",
          "output_type": "stream"
        },
        {
          "execution_count": 25,
          "output_type": "execute_result",
          "data": {
            "text/plain": "[0.22075533866882324, 0.961251437664032, 0.923927366733551, 0.9397507309913635]"
          },
          "metadata": {}
        }
      ]
    },
    {
      "cell_type": "markdown",
      "source": [
        "# Just some random testing"
      ],
      "metadata": {
        "id": "xa5nu7b58yVQ"
      }
    },
    {
      "cell_type": "code",
      "source": [
        "pred=gru_model.predict(x_test[1101].reshape(30,1))"
      ],
      "metadata": {
        "execution": {
          "iopub.status.busy": "2024-02-15T17:56:14.469767Z",
          "iopub.execute_input": "2024-02-15T17:56:14.470561Z",
          "iopub.status.idle": "2024-02-15T17:56:14.532428Z",
          "shell.execute_reply.started": "2024-02-15T17:56:14.470528Z",
          "shell.execute_reply": "2024-02-15T17:56:14.531477Z"
        },
        "trusted": true,
        "id": "VOX8js8n8yVR",
        "outputId": "0edca825-ff32-4b85-f179-9cf7d31e25d9"
      },
      "execution_count": null,
      "outputs": [
        {
          "name": "stdout",
          "text": "1/1 [==============================] - 0s 20ms/step\n",
          "output_type": "stream"
        }
      ]
    },
    {
      "cell_type": "code",
      "source": [
        "ans=[]\n",
        "for each in pred:\n",
        "    m=0\n",
        "    ind=0\n",
        "    for i in range(len(each[0])):\n",
        "        try:\n",
        "            if each[0][i]>m:\n",
        "                m=each[0][i]\n",
        "                ind=i\n",
        "        except:\n",
        "            print(each[i])\n",
        "    ans.append(ind)"
      ],
      "metadata": {
        "execution": {
          "iopub.status.busy": "2024-02-15T17:56:17.429217Z",
          "iopub.execute_input": "2024-02-15T17:56:17.429564Z",
          "iopub.status.idle": "2024-02-15T17:56:17.436025Z",
          "shell.execute_reply.started": "2024-02-15T17:56:17.429538Z",
          "shell.execute_reply": "2024-02-15T17:56:17.435074Z"
        },
        "trusted": true,
        "id": "dTS7Uaze8yVU"
      },
      "execution_count": null,
      "outputs": []
    },
    {
      "cell_type": "code",
      "source": [
        "ans,y_test[1101]\n",
        "np.array(ans)-y_test[1101]"
      ],
      "metadata": {
        "execution": {
          "iopub.status.busy": "2024-02-15T17:56:58.142128Z",
          "iopub.execute_input": "2024-02-15T17:56:58.142495Z",
          "iopub.status.idle": "2024-02-15T17:56:58.149189Z",
          "shell.execute_reply.started": "2024-02-15T17:56:58.142467Z",
          "shell.execute_reply": "2024-02-15T17:56:58.148218Z"
        },
        "trusted": true,
        "id": "Z0qPSu8M8yVU"
      },
      "execution_count": null,
      "outputs": []
    },
    {
      "cell_type": "code",
      "source": [],
      "metadata": {
        "id": "XTBUMBL-8yVU"
      },
      "execution_count": null,
      "outputs": []
    }
  ]
}